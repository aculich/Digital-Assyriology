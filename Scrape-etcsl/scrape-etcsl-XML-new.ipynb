{
 "cells": [
  {
   "cell_type": "markdown",
   "metadata": {
    "slideshow": {
     "slide_type": "slide"
    }
   },
   "source": [
    "# Formatting ETCSL TEI XML files\n",
    "## Introduction\n",
    "\n",
    "# TODO\n",
    "- Revise all introductory text\n",
    "- in using lxml consistently use .xpath() rather than .iter()\n",
    "- try finding secondary and additional text with xpath() rather then in pre-processing\n",
    "- note: \n",
    "`test = tree.xpath(\".//w[preceding-sibling::addSpan[@type='secondary'] and following-sibling::anchor]/descendant-or-self::*[@form]\")`\n",
    "\n",
    "finds words (not lines). Adjust XML with\n",
    "\n",
    "`for x in test:\n",
    "    x.attrib[\"status\"] = \"secondary\"`\n",
    "\n",
    "\n",
    "The Electronic Text Corpus of Sumerian Literature ([ETCSL](http://etcsl.orinst.ox.ac.uk) 1998-2006) provides editions and translations of some 400 Sumerian literary texts. Goal of this Notebook is to format the ETCSL data in such a way that the (lemmatized) texts are made available for computational text analysis. In order to make the data compatible with output scraped from [ORACC](http://oracc.org), the Notebook ETCSL-to-EPSD2 should be run after running the current scraper.\n",
    "\n",
    "For most purposes you do not need to run this scraper, because the final output is made available to you. However, if you need output in a different format or if you wish to know how the output was produced, you may read, adapt, and run this Notebook.\n",
    "\n",
    "The original [ETCSL](http://etcsl.orinst.ox.ac.uk) files in TEI XML are available upon request from the [Oxford Text Archive](http://ota.ox.ac.uk/desc/2518). Note the following description on the OTA site:\n",
    "\n",
    "> ## The Electronic Text Corpus of Sumerian Literature. Revised edition.\n",
    "\n",
    "> ### Editor\t\n",
    "> Cunningham, Graham (ed.); Ebeling, Jarle (ed.); Black, Jeremy (deceased) (ed.); Flückiger-Hawker, Esther (ed.); Robson, Eleanor (ed.); Taylor, Jon (ed.); Zólyomi, Gábor (ed.)\n",
    "\n",
    "> ### Availability\t\n",
    "> Use of this resource is restricted in some manner. Usually this means that it is available for non-commercial use only with prior permission of the depositor and on condition that this header is included in its entirety with any copy distributed.\n",
    "\n",
    "The [manual](http://etcsl.orinst.ox.ac.uk/edition2/etcslmanual.php) of the ETCSL project explains in full detail the editorial principles and the technical details. According to the manual the ETCSL data are freely available and the XML source files can be downloaded.\n",
    "\n",
    "The TEI XML source files were sent to me by the Oxford Text Archive upon request September 3rd 2015. Any (non-commercial) re-use of the data produced in this Notebook should reproduce the header quoted above ('Editor' and 'Availability') and is understood to be licensed under a [Creative Commons Share Alike](http://creativecommons.org/licenses/by-nc-sa/4.0/) license.\n",
    "\n"
   ]
  },
  {
   "cell_type": "markdown",
   "metadata": {},
   "source": [
    "# The Scraper\n",
    "\n",
    "This scraper expects the following files:\n",
    "\n",
    "1. Directory Input\n",
    "  * etcsl.txt  a list of ETCSL text numbers\n",
    "2. Directory etcsl/transliterations/\n",
    "  * This directory should contain the ETCSL TEI XML files.\n",
    "3. Directory Equivalencies\n",
    "  * ampersands.txt a list of HTML entities and their unicode equivalents\n",
    "  * version_equivalencies.txt a list of ETCSL version names with their abbreviated forms.\n",
    "\n",
    "The output is saved in the `Output` directory as a set of .txt files."
   ]
  },
  {
   "cell_type": "markdown",
   "metadata": {},
   "source": [
    "## 1. Setting Up\n",
    "First import the proper packages: \n",
    "\n",
    "- re: Regular Expressions\n",
    "- StringIO: enable treating strings as files (used for ElementTree)\n",
    "- os: enable Python to perform basic Operating System functions (such as making a directory)\n",
    "- ElementTree: read and analyze an XML file as an ordered tree\n",
    "- time: allows the program to 'sleep' for a brief period\n",
    "- tqdm: creates a progress bar\n",
    "\n",
    "If you installed Python 3 and Jupyter by installing the [Anaconda Navigator](https://www.continuum.io/downloads), then most of these packages should already be installed, with the exception of tqdm. The first line in the cell below installs tqdm. It needs to be installed just once, after installing it you may invalidate that line by putting a # in front of it."
   ]
  },
  {
   "cell_type": "code",
   "execution_count": 10,
   "metadata": {
    "collapsed": false
   },
   "outputs": [],
   "source": [
    "#! pip install tqdm\n",
    "import re\n",
    "from lxml import etree\n",
    "import os\n",
    "import time\n",
    "import json\n",
    "import pandas as pd\n",
    "import tqdm\n",
    "#import ipywidgets as widgets\n",
    "\n",
    "#from ipywidgets import Checkbox, interactive\n",
    "#from IPython.display import display\n",
    "#from tqdm import *\n",
    "\n"
   ]
  },
  {
   "cell_type": "markdown",
   "metadata": {},
   "source": [
    "## 1.a Load Equivalencies "
   ]
  },
  {
   "cell_type": "code",
   "execution_count": 11,
   "metadata": {
    "collapsed": false
   },
   "outputs": [],
   "source": [
    "with open(\"equivalencies/equivalencies.json\") as f:\n",
    "    eq = json.load(f)\n",
    "equiv = eq[\"suxwords\"]\n",
    "equiv.extend(eq[\"emesalwords\"])\n",
    "equiv.extend(eq[\"propernouns\"])"
   ]
  },
  {
   "cell_type": "markdown",
   "metadata": {},
   "source": [
    "## 2. Preprocessing 1: HTML-entities\n",
    "The ETCSL TEI XML files are written in ASCII and represent special characters (such as š or ī) by a sequence of characters that begins with & and ends with ; (e.g. &c; represents š). These so-called HTML entities are used in translation, bibliography, and introductory text, but not in the transliteration of the Sumerian text itself (see below). The entities are for the most part project-specific and are declared and described elsewhere in the ETCSL file set. The ElementTree package cannot deal with these entities and thus we have to replace them with the actual (unicode) character that they represent, before feeding the data to ElementTree. \n",
    "\n",
    "All the entities are listed with their corresponding unicode character (or expression) in the file `Input/ampersands.txt` separated by a space:\n",
    "\n",
    "    &aacute; á\n",
    "    &aleph; ʾ\n",
    "    &amacr; ā\n",
    "    &ance; {anše}\n",
    "    etc.\n",
    "    \n",
    "in the main process (below 11) the file `ampersands.txt` is read and made into the Python dictionary `findreplace` in which each of the HTML entities is a key, with its unicode equivalent as value. The function `ampersands()` uses this dictionary for a search-replace action.\n",
    "\n",
    "The function `ampersands()` is called in `parsetext()` before the ElementTree is built. Note that the .xml files themselves are not changed by this process (or by any other process in this Notebook)."
   ]
  },
  {
   "cell_type": "code",
   "execution_count": 12,
   "metadata": {
    "collapsed": true
   },
   "outputs": [],
   "source": [
    "def ampersands(x):\n",
    "    for amp in eq[\"ampersands\"]:\n",
    "        x = x.replace(amp, eq[\"ampersands\"][amp])\n",
    "    return x"
   ]
  },
  {
   "cell_type": "markdown",
   "metadata": {},
   "source": [
    "## 4. Preprocessing 2: Marking 'Secondary Text' and/or 'Additional Text'\n",
    "\n",
    "The ETCSL web pages include variants, indicated as '(1 ms. has instead: )', with the variant text enclosed in curly brackets. Two types of variants are distinguished: 'additional text' and 'secondary text'. 'Additional text' refers to a line that appears in a minority of sources (often in only one). 'Secondary text' refers to variant words or variant lines that are found in a minority of sources. The function `remove_extra()` may remove the words of 'secondary text' and/or 'additional text' before the text is parsed by ElementTree. \n",
    "\n",
    "In ETCSL TEI XML secondary/additional text is introduced by a tag of the type:\n",
    "```xml\n",
    "`<addSpan to=\"c141.v11\" type=\"secondary\"/>`\n",
    "```\n",
    "or\n",
    "```xml\n",
    "`<addSpan to=\"c141.v11\" type=\"additional\"/>`\n",
    "```\n",
    "\n",
    "The number c141 represents the text number in ETCSL (in this case Inana's Descent, text c.1.4.1). The return to the primary text is indicated by a tag of the type:\n",
    "```xml\n",
    "`<anchor id=\"c141.v11\"/>`\n",
    "```\n",
    "Note that the `id` attribute in the `anchor` tag is identical to the `to` attribute in the `addSpan` tag.\n",
    "\n",
    "The function `remove_extra()` uses regular expressions to identify and remove the Sumerian words and lines between those tags. The DOTALL flag (in re.DOTALL) allows the search in the regular expression to continue over multiple lines. Note that the function does not simply erase everything between the `<addSpan >` and the `<anchor >` tags identified with the regular expression. Instead, it indentifies words and lines between those tags, and elimibates those. This is the case because on occasion there may be tags that begin before the `<addSpan>` tag and end with the secondary region. Erasing the whole region would invalidate the XML structure and make it impossible to scan the data with ElementTree.\n",
    "\n",
    "The function `remove_extra()` is called by the function `parse()` (see below, section 8). The third argument (`which`) is either `additional` (to remove additional text) or `secondary` (to remove secondary text). The default is not to remove anything."
   ]
  },
  {
   "cell_type": "code",
   "execution_count": 13,
   "metadata": {
    "collapsed": true
   },
   "outputs": [],
   "source": [
    "def mark_extra(xmltext, textid, which):\n",
    "    textid = textid.replace('.', '')\n",
    "    find = re.compile('(<addSpan to=(\"' + textid + '.v[0-9]{1,3}\") type=\"' + which + '\"/>.*?<anchor id=\\\\2/>)', re.DOTALL)\n",
    "    extra = re.findall(find, xmltext) # make a list of secondary/additional passages\n",
    "    extra = [second[0] for second in extra] #findall creates a list of tuples; take the first of each tuple. The first\n",
    "                                        # element in the tuple is the actual (secondary/additional) passage, \n",
    "                                        # the second is an id number.\n",
    "    markwords = [re.sub('<w form=', '<w status=\"' + which + '\" form=', instance) for instance in extra] \n",
    "                                        # mark status of each extra word in extra passage\n",
    "    for search, repl in zip(extra, markwords):\n",
    "        xmltext = xmltext.replace(search, repl)\n",
    "    return xmltext"
   ]
  },
  {
   "cell_type": "markdown",
   "metadata": {},
   "source": [
    "## 3. Transliteration Conventions\n",
    "\n",
    "Transliteration of Sumerian text in ETCSL TEI XML files uses **c** for **š**, **j** for **ŋ** and regular numbers for index numbers. The function `tounicode()` replaces each of those. For example **cag4** is replaced by **šag₄**. This function is called in the function `getword()` to format citation forms and forms (transliteration). The function `tounicode` uses the dictionary `ascii_unicode` which is stored in the `equivalencies.json` file."
   ]
  },
  {
   "cell_type": "code",
   "execution_count": 14,
   "metadata": {
    "collapsed": true
   },
   "outputs": [],
   "source": [
    "def tounicode(x):\n",
    "    for char in eq[\"ascii_unicode\"]:\n",
    "        x = x.replace(char, eq[\"ascii_unicode\"][char])\n",
    "    return x"
   ]
  },
  {
   "cell_type": "markdown",
   "metadata": {},
   "source": [
    "## Replace ETCSL by ORACC Lemmatization\n",
    "For every word, once `cf` (Citation Form), `gw` (Guide Word), and `pos` (Part of Speech) have been pulled out of the XML file, it is run through the etcsl/oracc equivalence lists to match it with the oracc/epsd2 standards"
   ]
  },
  {
   "cell_type": "code",
   "execution_count": 15,
   "metadata": {
    "collapsed": false
   },
   "outputs": [],
   "source": [
    "def etcsl_to_oracc(word):\n",
    "    lemma = {key:word[key] for key in ['cf', 'gw', 'pos']}\n",
    "    for entry in equiv:\n",
    "        if lemma == entry[\"etcsl\"]:\n",
    "            word['cf'] = entry[\"oracc\"][\"cf\"]\n",
    "            word[\"gw\"] = entry[\"oracc\"][\"gw\"]\n",
    "            word[\"pos\"] = entry[\"oracc\"][\"pos\"]\n",
    "            if \"oracc2\" in entry:\n",
    "                word[\"cf2\"] = entry[\"oracc2\"][\"cf\"]\n",
    "                word[\"gw2\"] = entry[\"oracc2\"][\"gw\"]\n",
    "                word[\"pos2\"] = entry[\"oracc2\"][\"pos\"]\n",
    "    return word"
   ]
  },
  {
   "cell_type": "markdown",
   "metadata": {},
   "source": [
    "## 6. Formatting Words\n",
    "\n",
    "A word in the ETCSL files is represented by a number of nodes in the XML tree that identify the form (transliteration), citation form, guide word, part of speech, etc. The function `getword()` formats the word as closely as possible to the ORACC conventions. Three different types of words are treated in three different ways: Proper Nouns, Sumerian words and Emesal words.\n",
    "\n",
    "In ETCSL **proper nouns** are nouns, which are qualified by a 'type' (Divine Name, Personal Name, Geographical Name, etc.; abbreviated as DN, PN, GN, etc.). In ORACC a word has a single POS; for proper nouns this is DN, PN, GN, etc. - so what is 'type' in ETCSL becomes POS in ORACC. ORACC proper nouns usually do not have a guide word (only a number to enable disambiguation of namesakes). The ETCSL guide words ('label') for names come pretty close to ORACC citation forms. Names are therefore formatted differently from other nouns.\n",
    "\n",
    "**Sumerian words** are treated in basically the same way in ETCSL and ORACC, but the citation forms and guide words are often different. Transformation of citation forms and guide words to ORACC (epsd2) standards takes place in the Notebook ETCSL-toEPSD2. This harmonization process uses a set of dictionaries (prepared by Niek Veldhuis and Terri Tanaka) that record ETCSL to EPSD2 equivalencies.\n",
    "\n",
    "**Emesal words** in ETCSL use their Sumerian equivalents as citation form ('lemma'), adding a separate node ('emesal') for the Emesal form proper. This Emesal form is the one that is used as citation form in the output.\n",
    "\n",
    "Guide words need removal of commas and spaces. Removal of commas will allow the output files to be read as Comma Separated Value (csv) files, which is an efficient input format for processes in Python and R. In the output file commas separate different fields from each other (text ID, text name, line number and text). Spaces need to be removed because standard tokenizers will understand spaces as word dividers. "
   ]
  },
  {
   "cell_type": "code",
   "execution_count": 16,
   "metadata": {
    "collapsed": false
   },
   "outputs": [],
   "source": [
    "def getword(node, meta_d):\n",
    "    word = {key:meta_d[key] for key in meta_d} # store all meta data in metad_d in the word dictionary\n",
    "    if node.tag == 'gloss':\n",
    "        form = \"\".join(node.itertext())\n",
    "        form = form.replace('\\n', ' ').strip()\n",
    "        word[\"form\"] = tounicode(form)\n",
    "        word[\"lang\"] = node.get(\"lang\")\n",
    "        return word\n",
    "    \n",
    "    word[\"cf\"] = node.get('lemma').replace('Xbr', '(X)')\n",
    "    word[\"gw\"] = node.get('label')\n",
    "\n",
    "    if node.get('pos'):\n",
    "        word[\"pos\"] = node.get('pos')\n",
    "    else:\n",
    "        word[\"pos\"] = 'NA'\n",
    "        word[\"gw\"] = 'NA'\n",
    "    form = node.get('form').replace('Xbr', '(X)')\n",
    "    word[\"form\"] = form\n",
    "    \n",
    "    if node.get('emesal'):\n",
    "        word[\"cf\"] = node.get('emesal')\n",
    "        word[\"lang\"] = \"sux-x-emesal\"\n",
    "    else:\n",
    "        word[\"lang\"] = \"sux\"\n",
    "    if word[\"pos\"] != 'NU':\n",
    "        word[\"cf\"] = tounicode(word[\"cf\"])\n",
    "        word[\"form\"] = tounicode(word[\"form\"])\n",
    "    if node.get('type') and word[\"pos\"] == 'N':\n",
    "        if node.get('type') != 'ideophone':\n",
    "            word[\"pos\"] = node.get('type')\n",
    "            word[\"cf\"] = node.get('label')\n",
    "            word[\"gw\"] = '1'\n",
    "    if node.get('status'):\n",
    "        word['status'] = node.get('status')\n",
    "\n",
    "    word[\"gw\"] = word[\"gw\"].replace(\",\", \";\") #remove commas from guide words (replace by semicolon) to prevent\n",
    "                                            #problems with processing of the csv format\n",
    "    word[\"gw\"] = word[\"gw\"].replace(\" \", \"-\") #remove spaces from guide words (replace by hyphen). Spaces\n",
    "                                            #create problems with tokenizers in computational text analysis.\n",
    "    word = etcsl_to_oracc(word)   \n",
    "    return word"
   ]
  },
  {
   "cell_type": "markdown",
   "metadata": {},
   "source": [
    "## 7. Formatting Lines\n",
    "\n",
    "Each line consist of a series of words. The function `getline()` iterates over a line, taking one word at a time. The words and their various features (language, citation form, guideword, part of speech and form) are retrieved calling the function `getword()`, which returns a dictionary. This dictionary is forwarded to the function `outputformat()` for formatting.\n",
    "\n",
    "The function `getword()` will supply the Part of Speech 'X' to each word that has no POS tag already."
   ]
  },
  {
   "cell_type": "code",
   "execution_count": 17,
   "metadata": {
    "collapsed": false
   },
   "outputs": [],
   "source": [
    "def getline(lnode, meta_d):\n",
    "    meta_d[\"line_ref\"] += 1\n",
    "    if lnode.tag == 'gap':\n",
    "        line = {key:meta_d[key] for key in [\"id_text\", \"text_name\", \"version\", \"line_ref\"]}\n",
    "        line[\"extent\"] = lnode.get(\"extent\")\n",
    "        line = [line]\n",
    "        return line\n",
    "    wordsinline = [] #initialize list for the words in this line\n",
    "    for node in lnode.xpath('.//w|.//gloss[@lang=\"akk\"]'):\n",
    "                        # get <w> nodes and <gloss> nodes, but only Akkadian glosses\n",
    "        word = getword(node, meta_d)\n",
    "        if \"cf2\" in word:\n",
    "            word2 = {key:word[key] for key in [\"id_text\", \"text_name\",\"version\", \"line_ref\", \"line_no\",\n",
    "                                               \"form\", \"lang\"]}\n",
    "            word2[\"cf\"] = word[\"cf2\"]\n",
    "            word2[\"gw\"] = word[\"gw2\"]\n",
    "            word2[\"pos\"] = word[\"pos2\"]            \n",
    "            word1 = {key:word[key] for key in [\"id_text\", \"text_name\",\"version\", \"line_ref\", \"line_no\",\n",
    "                                               \"form\", \"lang\", \"cf\", \"gw\", \"pos\"]}\n",
    "            wordsinline.extend([word1, word2])\n",
    "        else:\n",
    "            wordsinline.append(word)\n",
    "    return wordsinline"
   ]
  },
  {
   "cell_type": "markdown",
   "metadata": {},
   "source": [
    "## 8. Sections\n",
    "\n",
    "Some compositions are divided into **sections**. That is the case, in particular, when a composition has gaps of unknown length. \n",
    "\n",
    "The function `getsection()` is called by `getversion()` and receives three arguments: `tree` (an ElementTree object), `line_prefix` (which contains textid and the text name, and version name where applicable), and `csvformat` (which contains the header of the output CSV file). The function `getsection` checks to see whether a sub-division into sections is present. If so, it iterates over these sections. Each section (or, if there are no sections, the composition/version as a whole) consists of series of lines. The function `getline()` is called to request the contents of each line. The function returns the variable `csvformat`, which contains the formatted data."
   ]
  },
  {
   "cell_type": "code",
   "execution_count": 18,
   "metadata": {
    "collapsed": true
   },
   "outputs": [],
   "source": [
    "def getsection(tree, meta_d):\n",
    "    linesinsection = []\n",
    "    sections = tree.find('.//div1')\n",
    "    if sections != None: # if the text is not divided into sections - skip to else:\n",
    "        for snode in tree.iter('div1'):\n",
    "            section = snode.get('n')\n",
    "            for lnode in snode.xpath('.//l|.//gap'):\n",
    "                if lnode.tag == 'l':\n",
    "                    line = section + lnode.get('n')\n",
    "                    meta_d[\"line_no\"] = line\n",
    "                line = getline(lnode, meta_d)\n",
    "                linesinsection.extend(line)\n",
    "    else:\n",
    "        for lnode in tree.xpath('.//l|.//gap'):\n",
    "            if lnode.tag == 'l':\n",
    "                line_no = lnode.get('n')\n",
    "                meta_d[\"line_no\"] = line_no\n",
    "            line = getline(lnode, meta_d)\n",
    "            linesinsection.extend(line)\n",
    "    return linesinsection"
   ]
  },
  {
   "cell_type": "markdown",
   "metadata": {},
   "source": [
    "## 9. Versions\n",
    "\n",
    "In some cases an ETCSL file contains different versions of the same composition. The versions may be distinguished as 'Version A' vs. 'Version B' or may indicate the provenance of th version ('A version from Urim' vs. 'A version from Nibru'). In the edition of the proverbs the same mechanism is used to distinguish between numerous tablets (often lentils) that contain just one proverb, or a few, and are collected in the files \"Proverbs from Susa,\" \"Proverbs from Nibru,\" etc. (ETCSL c.6.2.1 - c.6.2.5).\n",
    "\n",
    "The function `getversion()` is called by the function `parse()` and receives three arguments: `tree` (an ElementTree object), `line_prefix` (which contains the textid and the text name), and `csvformat` (which contains the header of the output CSV file). The function checks to see if versions are available in the file that is being parsed. If so, the function iterates over these versions while adding the version name to the variable `line_prefix`. If there are no versions, the version name is left empty. The parsing process is continued by calling `getsection()` to see if the composition/version is further divided into sections."
   ]
  },
  {
   "cell_type": "code",
   "execution_count": 19,
   "metadata": {
    "collapsed": true
   },
   "outputs": [],
   "source": [
    "def getversion(tree, meta_d):\n",
    "    sectionsinversion = []\n",
    "    versions = tree.find('.//head')\n",
    "    if versions != None: # if the text is not divided into versions - skip 'getversion()':\n",
    "        for vnode in tree.iter('body'):\n",
    "            version = vnode.find('head').text\n",
    "            version = eq[\"versions\"][version]\n",
    "            meta_d[\"version\"] = version\n",
    "            section = getsection(vnode, meta_d)\n",
    "            sectionsinversion.extend(section)\n",
    "    else:\n",
    "        meta_d[\"version\"] = ''\n",
    "        section = getsection(tree, meta_d)\n",
    "        sectionsinversion.extend(section)\n",
    "    return sectionsinversion\n"
   ]
  },
  {
   "cell_type": "markdown",
   "metadata": {},
   "source": [
    "## 10. Parse a Text\n",
    "\n",
    "The function `parsetext()` takes one xml file (a composition in ETCSL) and parses it, calling a variety of functions defined above. The function returns the variable `csvformat`. It contains a line-by-line representation of the text with version label (where applicable), line numbers (including section labels, where applicable) and all the lemmatized words.\n",
    "\n",
    "The parsing is done by the ElementTree (ET) package. ET.parse expects a file, but instead it receives a variable here (`xmltext`). The function `StringIO()` allows a string to be treated as a file."
   ]
  },
  {
   "cell_type": "code",
   "execution_count": 20,
   "metadata": {
    "collapsed": false
   },
   "outputs": [],
   "source": [
    "def parsetext(textid):\n",
    "    meta_d = {\"id_text\": textid, \"line_ref\" : 0}\n",
    "    with open('etcsl/transliterations/' + textid + '.xml') as f:\n",
    "        xmltext = f.read()\n",
    "    xmltext = ampersands(xmltext)          #replace HTML entities by Unicode equivalents\n",
    "    xmltext = mark_extra(xmltext, textid, \"additional\")\n",
    "    xmltext = mark_extra(xmltext, textid, \"secondary\")\n",
    "    #xmltext = gaps(xmltext)\n",
    "    #xmltext = glosses(xmltext)\n",
    "    \n",
    "    tree = etree.fromstring(xmltext)\n",
    "    title = tree.xpath('.//title/descendant-or-self::text()')\n",
    "    name = \"\".join(title) #some titles have children with <foreign> tag for Sumerian words\n",
    "    name = name.replace(' -- a composite transliteration', '')\n",
    "    name = name.replace(',', '')\n",
    "    meta_d[\"text_name\"] = name\n",
    "    \n",
    "    parsed = getversion(tree, meta_d)\n",
    "\n",
    "    return parsed"
   ]
  },
  {
   "cell_type": "markdown",
   "metadata": {},
   "source": [
    "## 11. Main Process\n",
    "\n",
    "The code below opens a file `etcsl.txt` (in the directory `Input`) which contains all the numbers of ETCSL compositions (such as c.1.1.4). For each such number the corresponding xml file is opened and the content of the file is sent to the function `parsetext()`. `Parsetext()` returns the variabe `parsed` which is a list of dictionaries, each dictionary representing a single word in a single composition. The `parsed` is added to the list `alltexts`. In the end, `alltexts` will be a list of dictionaries that represent all the words in [ETCSL](http://etcsl.orinst.ox.ac.uk/). The list is transformed into a Pandas DataFrame. All missing values (`NaN`) are replaced by empty strings. The DataFrame is saved as a CSV file named `alltexts.csv` in the directory `output`."
   ]
  },
  {
   "cell_type": "code",
   "execution_count": 12,
   "metadata": {
    "collapsed": false
   },
   "outputs": [
    {
     "name": "stderr",
     "output_type": "stream",
     "text": [
      "100%|██████████| 394/394 [01:40<00:00,  2.17it/s]\n"
     ]
    }
   ],
   "source": [
    "with open(\"Input/etcsl.txt\", \"r\") as f:\n",
    "    textlist = f.read().splitlines()\n",
    "if not os.path.exists('Output'):\n",
    "    os.mkdir('Output')\n",
    "\n",
    "alltexts = []\n",
    "for eachtextid in tqdm.tqdm(textlist):\n",
    "    parsed = parsetext(eachtextid)\n",
    "    alltexts.extend(parsed)\n",
    "\n",
    "df = pd.DataFrame(alltexts)\n",
    "df = df.fillna('')\n",
    "with open('output/alltexts.csv', 'w') as w:\n",
    "    df.to_csv(w)"
   ]
  },
  {
   "cell_type": "code",
   "execution_count": null,
   "metadata": {
    "collapsed": true
   },
   "outputs": [],
   "source": []
  }
 ],
 "metadata": {
  "anaconda-cloud": {},
  "kernelspec": {
   "display_name": "Python 3",
   "language": "python",
   "name": "python3"
  },
  "language_info": {
   "codemirror_mode": {
    "name": "ipython",
    "version": 3
   },
   "file_extension": ".py",
   "mimetype": "text/x-python",
   "name": "python",
   "nbconvert_exporter": "python",
   "pygments_lexer": "ipython3",
   "version": "3.6.0"
  }
 },
 "nbformat": 4,
 "nbformat_minor": 0
}
