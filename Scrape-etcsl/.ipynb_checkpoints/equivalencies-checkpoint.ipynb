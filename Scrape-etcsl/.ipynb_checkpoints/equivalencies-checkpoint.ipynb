{
 "cells": [
  {
   "cell_type": "code",
   "execution_count": null,
   "metadata": {
    "collapsed": true
   },
   "outputs": [],
   "source": [
    "import json"
   ]
  },
  {
   "cell_type": "code",
   "execution_count": null,
   "metadata": {
    "collapsed": true
   },
   "outputs": [],
   "source": [
    "d = {\"info\": \"equivalence lists for ETCSL - ORACC conversion\",\n",
    "     \"author\": \"Niek Veldhuis, with the assistance of Terri Tanaka\",\n",
    "    \"ETCSL\": \"http://etcsl.orinst.ox.ac.uk/\",\n",
    "    \"ORACC\": \"http://oracc.org\",\n",
    "    \"license\": \"This data is released under the CC0 license\",\n",
    "  \"license-url\": \"https://creativecommons.org/publicdomain/zero/1.0/\",\n",
    "  \"more-info\": \"https://github.com/niekveldhuis/Digital-Assyriology/tree/master/Scrape-etcsl\"}"
   ]
  },
  {
   "cell_type": "code",
   "execution_count": null,
   "metadata": {
    "collapsed": false
   },
   "outputs": [],
   "source": [
    "with open(\"equivalencies/ampersands.txt\", 'r') as f:\n",
    "    amps = f.read().splitlines()\n",
    "ampers_d = {}\n",
    "for a in amps:\n",
    "    (amp, uni) = a.split(' ')\n",
    "    ampers_d[amp] = uni\n",
    "d[\"ampersands\"] = ampers_d"
   ]
  },
  {
   "cell_type": "code",
   "execution_count": null,
   "metadata": {
    "collapsed": true
   },
   "outputs": [],
   "source": [
    "with open(\"equivalencies/version_equivalencies.txt\", 'r') as f:\n",
    "    amps = f.read().splitlines()\n",
    "versions_d = {}\n",
    "for a in amps:\n",
    "    (amp, uni) = a.split('; ')\n",
    "    versions_d[amp] = uni\n",
    "d[\"versions\"] = versions_d"
   ]
  },
  {
   "cell_type": "code",
   "execution_count": null,
   "metadata": {
    "collapsed": false
   },
   "outputs": [],
   "source": [
    "with open(\"equivalencies/etcsl_epsd2_sux2.txt\") as f:\n",
    "    sux = f.read().splitlines()\n",
    "\n",
    "words_l = []\n",
    "for word in sux:\n",
    "    entry = {}\n",
    "    entry[\"etcsl\"], entry[\"oracc\"] = word.split(' = ')\n",
    "    words_l.append(entry)\n",
    "words_l\n",
    "\n",
    "for entry in words_l:\n",
    "    if \"sux:\" in entry[\"oracc\"]:  # when an etcsl word is replaced by two oracc words\n",
    "        oracclemma2 = {}\n",
    "        entry[\"oracc\"], entry[\"oracc2\"] = entry[\"oracc\"].split(\" sux:\")\n",
    "        oracclemma2[\"cf\"], oracclemma2[\"gw\"] = entry[\"oracc2\"].split('[')\n",
    "        oracclemma2[\"gw\"], oracclemma2[\"pos\"] = oracclemma2[\"gw\"].split(']')\n",
    "        entry[\"oracc2\"] = oracclemma2\n",
    "    etcsllemma = {}\n",
    "    etcsllemma[\"cf\"], etcsllemma[\"gw\"] = entry[\"etcsl\"].split('[')\n",
    "    etcsllemma[\"gw\"], etcsllemma[\"pos\"] = etcsllemma[\"gw\"].split(']')\n",
    "    entry['etcsl'] = etcsllemma\n",
    "    oracclemma = {}\n",
    "    oracclemma[\"cf\"], oracclemma[\"gw\"] = entry[\"oracc\"].split('[')\n",
    "    oracclemma[\"gw\"], oracclemma[\"pos\"] = oracclemma[\"gw\"].split(']')\n",
    "    entry['oracc'] = oracclemma\n",
    "words_l\n",
    "d[\"suxwords\"] = words_l"
   ]
  },
  {
   "cell_type": "code",
   "execution_count": null,
   "metadata": {
    "collapsed": true
   },
   "outputs": [],
   "source": [
    "with open(\"equivalencies/etcsl_epsd2_emesal2.txt\") as f:\n",
    "    sux = f.read().splitlines()\n",
    "\n",
    "words_l = []\n",
    "for word in sux:\n",
    "    entry = {}\n",
    "    entry[\"etcsl\"], entry[\"oracc\"] = word.split(' = ')\n",
    "    words_l.append(entry)\n",
    "words_l\n",
    "\n",
    "for entry in words_l:\n",
    "    etcsllemma = {}\n",
    "    etcsllemma[\"cf\"], etcsllemma[\"gw\"] = entry[\"etcsl\"].split('[')\n",
    "    etcsllemma[\"gw\"], etcsllemma[\"pos\"] = etcsllemma[\"gw\"].split(']')\n",
    "    entry['etcsl'] = etcsllemma\n",
    "    oracclemma = {}\n",
    "    oracclemma[\"cf\"], oracclemma[\"gw\"] = entry[\"oracc\"].split('[')\n",
    "    oracclemma[\"gw\"], oracclemma[\"pos\"] = oracclemma[\"gw\"].split(']')\n",
    "    entry['oracc'] = oracclemma\n",
    "words_l\n",
    "d[\"emesalwords\"] = words_l"
   ]
  },
  {
   "cell_type": "code",
   "execution_count": null,
   "metadata": {
    "collapsed": true
   },
   "outputs": [],
   "source": [
    "with open(\"equivalencies/etcsl_epsd2_propernouns2.txt\") as f:\n",
    "    sux = f.read().splitlines()\n",
    "\n",
    "words_l = []\n",
    "for word in sux:\n",
    "    entry = {}\n",
    "    entry[\"etcsl\"], entry[\"oracc\"] = word.split(' = ')\n",
    "    words_l.append(entry)\n",
    "words_l\n",
    "\n",
    "for entry in words_l:\n",
    "    etcsllemma = {}\n",
    "    etcsllemma[\"cf\"], etcsllemma[\"gw\"] = entry[\"etcsl\"].split('[')\n",
    "    etcsllemma[\"gw\"], etcsllemma[\"pos\"] = etcsllemma[\"gw\"].split(']')\n",
    "    entry['etcsl'] = etcsllemma\n",
    "    oracclemma = {}\n",
    "    oracclemma[\"cf\"], oracclemma[\"gw\"] = entry[\"oracc\"].split('[')\n",
    "    oracclemma[\"gw\"], oracclemma[\"pos\"] = oracclemma[\"gw\"].split(']')\n",
    "    entry['oracc'] = oracclemma\n",
    "words_l\n",
    "d[\"propernouns\"] = words_l"
   ]
  },
  {
   "cell_type": "code",
   "execution_count": null,
   "metadata": {
    "collapsed": true
   },
   "outputs": [],
   "source": [
    "ascii_unicode = {'j': 'ŋ', 'J':'Ŋ','c': 'š','C': 'Š' }\n",
    "d[\"ascii_unicode\"] = ascii_unicode\n",
    "index_no = {'1':'₁', '2':'₂', '3':'₃','4':'₄', '5':'₅', '6':'₆', '7': '₇','8': '₈','9': '₉','0': '₀',\n",
    "                     'x': 'ₓ'}\n",
    "d[\"index_no\"] = index_no"
   ]
  },
  {
   "cell_type": "code",
   "execution_count": null,
   "metadata": {
    "collapsed": false
   },
   "outputs": [],
   "source": [
    "r = json.dumps(d, ensure_ascii=False).encode(\"utf8\")\n",
    "with open(\"equivalencies/equivalencies.json\", 'wb') as fp:\n",
    "    fp.write(r)"
   ]
  },
  {
   "cell_type": "code",
   "execution_count": null,
   "metadata": {
    "collapsed": false
   },
   "outputs": [],
   "source": [
    "with open(\"equivalencies/equivalencies.json\") as f:\n",
    "    eq = json.load(f)"
   ]
  },
  {
   "cell_type": "markdown",
   "metadata": {},
   "source": [
    "# Example code for how to deal with equivalencies\n",
    "There is an output list that has a dictionary for each word. The `oracc_list` gathers the oracc equivalents. Note that in a few cases `form` needs to be split - look into that."
   ]
  },
  {
   "cell_type": "code",
   "execution_count": null,
   "metadata": {
    "collapsed": false
   },
   "outputs": [],
   "source": [
    "equiv = eq[\"suxwords\"]\n",
    "oracc_list = []\n",
    "for word in text_list:\n",
    "    for entry in equiv:\n",
    "        if entry[\"etcsl\"] == word:\n",
    "            word['cf'] = entry[\"oracc\"][\"cf\"]\n",
    "            word[\"gw\"] = entry[\"oracc\"][\"gw\"]\n",
    "            word[\"pos\"] = entry[\"oracc\"][\"pos\"]\n",
    "            oracc_list.append(word)\n",
    "        if entry[\"oracc2\"]:\n",
    "            word[\"cf\"] = entry[\"oracc2\"][\"cf\"]\n",
    "            word[\"gw\"] = entry[\"oracc2\"][\"gw\"]\n",
    "            word[\"pos\"] = enrty[\"oracc2\"][\"pos\"]\n",
    "            oracc_list.append(word)\n",
    "oracc_list"
   ]
  },
  {
   "cell_type": "code",
   "execution_count": null,
   "metadata": {
    "collapsed": false
   },
   "outputs": [],
   "source": [
    "eq[\"ascii_unicode\"]"
   ]
  },
  {
   "cell_type": "code",
   "execution_count": null,
   "metadata": {
    "collapsed": false
   },
   "outputs": [],
   "source": [
    "eq[\"suxwords\"]"
   ]
  },
  {
   "cell_type": "code",
   "execution_count": null,
   "metadata": {
    "collapsed": false
   },
   "outputs": [],
   "source": [
    "eq[\"emesalwords\"]"
   ]
  },
  {
   "cell_type": "code",
   "execution_count": null,
   "metadata": {
    "collapsed": false
   },
   "outputs": [],
   "source": [
    "eq[\"propernouns\"]"
   ]
  },
  {
   "cell_type": "code",
   "execution_count": null,
   "metadata": {
    "collapsed": false
   },
   "outputs": [],
   "source": [
    "eq[\"ampersands\"]"
   ]
  },
  {
   "cell_type": "code",
   "execution_count": null,
   "metadata": {
    "collapsed": false
   },
   "outputs": [],
   "source": [
    "eq[\"versions\"]"
   ]
  },
  {
   "cell_type": "code",
   "execution_count": null,
   "metadata": {
    "collapsed": false
   },
   "outputs": [],
   "source": [
    "equiv = eq[\"suxwords\"]"
   ]
  },
  {
   "cell_type": "code",
   "execution_count": null,
   "metadata": {
    "collapsed": false
   },
   "outputs": [],
   "source": [
    "type(equiv)"
   ]
  },
  {
   "cell_type": "code",
   "execution_count": null,
   "metadata": {
    "collapsed": false
   },
   "outputs": [],
   "source": [
    "equiv[0]"
   ]
  },
  {
   "cell_type": "code",
   "execution_count": null,
   "metadata": {
    "collapsed": true
   },
   "outputs": [],
   "source": [
    "dict1 = {\"a\": \"b\"}"
   ]
  },
  {
   "cell_type": "code",
   "execution_count": null,
   "metadata": {
    "collapsed": false
   },
   "outputs": [],
   "source": [
    "if dict1:\n",
    "    print(\"yes\")"
   ]
  },
  {
   "cell_type": "code",
   "execution_count": null,
   "metadata": {
    "collapsed": false
   },
   "outputs": [],
   "source": [
    "if \"dict2\" in locals():\n",
    "    print(\"yes\")\n",
    "else:\n",
    "    print(\"no\")"
   ]
  },
  {
   "cell_type": "code",
   "execution_count": null,
   "metadata": {
    "collapsed": false
   },
   "outputs": [],
   "source": [
    "word = {\"cf\": \"ad-KID\", \"gw\": \"basket-weaver\", \"pos\":\"N\"}\n",
    "equiv = eq[\"suxwords\"]\n",
    "equiv.extend(eq[\"emesalwords\"])\n",
    "equiv.extend(eq[\"propernouns\"])\n",
    "lemma = {key:word[key] for key in ['cf', 'gw', 'pos']}\n",
    "for entry in equiv:\n",
    "    if lemma == entry[\"etcsl\"]:\n",
    "        word['cf'] = entry[\"oracc\"][\"cf\"]\n",
    "        word[\"gw\"] = entry[\"oracc\"][\"gw\"]\n",
    "        word[\"pos\"] = entry[\"oracc\"][\"pos\"]\n",
    "        if \"oracc2\" in entry:\n",
    "            word[\"cf2\"] = entry[\"oracc2\"][\"cf\"]\n",
    "            word[\"gw2\"] = entry[\"oracc2\"][\"gw\"]\n",
    "            word[\"pos2\"] = entry[\"oracc2\"][\"pos\"]\n",
    "print(word)"
   ]
  },
  {
   "cell_type": "code",
   "execution_count": null,
   "metadata": {
    "collapsed": true
   },
   "outputs": [],
   "source": []
  }
 ],
 "metadata": {
  "kernelspec": {
   "display_name": "Python 3",
   "language": "python",
   "name": "python3"
  },
  "language_info": {
   "codemirror_mode": {
    "name": "ipython",
    "version": 3
   },
   "file_extension": ".py",
   "mimetype": "text/x-python",
   "name": "python",
   "nbconvert_exporter": "python",
   "pygments_lexer": "ipython3",
   "version": "3.6.0"
  }
 },
 "nbformat": 4,
 "nbformat_minor": 2
}
