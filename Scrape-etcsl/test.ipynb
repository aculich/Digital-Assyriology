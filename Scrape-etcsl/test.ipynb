{
 "cells": [
  {
   "cell_type": "code",
   "execution_count": 1,
   "metadata": {
    "collapsed": true
   },
   "outputs": [],
   "source": [
    "import json"
   ]
  },
  {
   "cell_type": "code",
   "execution_count": 2,
   "metadata": {
    "collapsed": false
   },
   "outputs": [],
   "source": [
    "with open(\"equivalencies/equivalencies.json\", encoding=\"utf-8\") as f:\n",
    "    eq = json.load(f)\n",
    "#equiv = eq[\"suxwords\"]\n",
    "#equiv.extend(eq[\"emesalwords\"])\n",
    "#equiv.extend(eq[\"propernouns\"])"
   ]
  },
  {
   "cell_type": "code",
   "execution_count": 14,
   "metadata": {
    "collapsed": false
   },
   "outputs": [],
   "source": [
    "for q in [\"suxwords\", \"emesalwords\", \"propernouns\"]:\n",
    "    lemmas_d = {}\n",
    "    for w in eq[q]:\n",
    "        etcsl = w['etcsl']\n",
    "        oracc = w['oracc']\n",
    "        etcsl_l = etcsl['cf'] + '[' + etcsl['gw'] + ']' + etcsl['pos']\n",
    "        lemmas_d[etcsl_l] = oracc\n",
    "        if 'oracc2' in w:\n",
    "            oracc2 = w['oracc2']\n",
    "            lemmas_d[etcsl_l]['cf2'] = oracc2['cf']\n",
    "            lemmas_d[etcsl_l]['gw2'] = oracc2['gw']\n",
    "            lemmas_d[etcsl_l]['pos2'] = oracc2['pos']\n",
    "    eq[q] = lemmas_d"
   ]
  },
  {
   "cell_type": "code",
   "execution_count": 17,
   "metadata": {
    "collapsed": false
   },
   "outputs": [],
   "source": [
    "with open(\"equivalencies/equivalencies2.json\", 'w', encoding=\"utf-8\") as f:\n",
    "    json.dump(eq, f, indent=4, ensure_ascii=False)"
   ]
  },
  {
   "cell_type": "code",
   "execution_count": 25,
   "metadata": {
    "collapsed": false
   },
   "outputs": [
    {
     "data": {
      "text/plain": [
       "dict_items([('b', 2), ('a', 1)])"
      ]
     },
     "execution_count": 25,
     "metadata": {},
     "output_type": "execute_result"
    }
   ],
   "source": [
    "a = {'a': 1, 'b': 2}\n",
    "b = {'c': 3, 'd': 4}\n",
    "a.items()"
   ]
  },
  {
   "cell_type": "code",
   "execution_count": 20,
   "metadata": {
    "collapsed": true
   },
   "outputs": [],
   "source": [
    "for i in a:\n",
    "    b[i] = a[i]"
   ]
  },
  {
   "cell_type": "code",
   "execution_count": 27,
   "metadata": {
    "collapsed": false
   },
   "outputs": [],
   "source": [
    "b.update(a)"
   ]
  },
  {
   "cell_type": "code",
   "execution_count": 28,
   "metadata": {
    "collapsed": false
   },
   "outputs": [
    {
     "data": {
      "text/plain": [
       "{'a': 1, 'b': 2, 'c': 3, 'd': 4}"
      ]
     },
     "execution_count": 28,
     "metadata": {},
     "output_type": "execute_result"
    }
   ],
   "source": [
    "b"
   ]
  },
  {
   "cell_type": "code",
   "execution_count": null,
   "metadata": {
    "collapsed": true
   },
   "outputs": [],
   "source": []
  }
 ],
 "metadata": {
  "kernelspec": {
   "display_name": "Python 3",
   "language": "python",
   "name": "python3"
  },
  "language_info": {
   "codemirror_mode": {
    "name": "ipython",
    "version": 3
   },
   "file_extension": ".py",
   "mimetype": "text/x-python",
   "name": "python",
   "nbconvert_exporter": "python",
   "pygments_lexer": "ipython3",
   "version": "3.5.5"
  }
 },
 "nbformat": 4,
 "nbformat_minor": 2
}
