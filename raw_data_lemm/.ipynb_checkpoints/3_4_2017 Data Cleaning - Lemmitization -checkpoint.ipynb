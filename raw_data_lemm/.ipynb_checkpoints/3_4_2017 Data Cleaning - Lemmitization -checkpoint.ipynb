{
 "cells": [
  {
   "cell_type": "code",
   "execution_count": 1,
   "metadata": {
    "collapsed": false
   },
   "outputs": [],
   "source": [
    "import pandas as pd\n",
    "import glob\n",
    "import re\n",
    "import numpy as np\n",
    "import matplotlib\n",
    "%matplotlib inline\n",
    "import matplotlib.pyplot as plt\n",
    "plt.style.use('fivethirtyeight')\n",
    "from astropy.table import Table, Column\n",
    "\n",
    "from sklearn.feature_extraction.text import CountVectorizer"
   ]
  },
  {
   "cell_type": "code",
   "execution_count": 5,
   "metadata": {
    "collapsed": false
   },
   "outputs": [
    {
     "data": {
      "text/html": [
       "<div>\n",
       "<table border=\"1\" class=\"dataframe\">\n",
       "  <thead>\n",
       "    <tr style=\"text-align: right;\">\n",
       "      <th></th>\n",
       "      <th>Individual Lines</th>\n",
       "    </tr>\n",
       "  </thead>\n",
       "  <tbody>\n",
       "    <tr>\n",
       "      <th>0</th>\n",
       "      <td>059308\\t\"Sumerian: šeg6\", SLA // Studies Sigri...</td>\n",
       "    </tr>\n",
       "    <tr>\n",
       "      <th>1</th>\n",
       "      <td>o. 1\\t\\t120 sa gi gu4 3 ba-ra-ceg6\\t\\n</td>\n",
       "    </tr>\n",
       "    <tr>\n",
       "      <th>2</th>\n",
       "      <td>o. 2\\t\\t´8` sa gi uzu ma-la-&lt;ku&gt; 2 ba-ra-ceg6\\t\\n</td>\n",
       "    </tr>\n",
       "  </tbody>\n",
       "</table>\n",
       "</div>"
      ],
      "text/plain": [
       "                                    Individual Lines\n",
       "0  059308\\t\"Sumerian: šeg6\", SLA // Studies Sigri...\n",
       "1             o. 1\\t\\t120 sa gi gu4 3 ba-ra-ceg6\\t\\n\n",
       "2  o. 2\\t\\t´8` sa gi uzu ma-la-<ku> 2 ba-ra-ceg6\\t\\n"
      ]
     },
     "execution_count": 5,
     "metadata": {},
     "output_type": "execute_result"
    }
   ],
   "source": [
    "dataset = 'query_text_16_12_29-052645.txt'\n",
    "lines = 1972870\n",
    "test_lines = 2000\n",
    "dataset_list = []\n",
    "\n",
    "#line1 = dataset.readline()\n",
    "#print(line1)\n",
    "#line2 = dataset.readline()\n",
    "#print(line2)\n",
    "#full_line = [line1]\n",
    "#print(full_line)\n",
    "\n",
    "\n",
    "def read_dataset(file, line = 0):\n",
    "    with open(file, 'r+', encoding = \"utf8\") as f:\n",
    "        for i in range(0, line):\n",
    "            dataset = f.readline()\n",
    "            dataset_list.append(dataset)\n",
    "        dataset_array = np.asarray(dataset_list)\n",
    "        dataset_table = pd.DataFrame({\"Individual Lines\" : dataset_array})\n",
    "        return(dataset_table)\n",
    "        \n",
    "#with open(file, 'r+', encoding = \"utf8\") as f:\n",
    " #   lines = f.readlines()    \n",
    "    \n",
    "    \n",
    "    \n",
    "table = read_dataset(dataset, test_lines)\n",
    "table.head(3)\n",
    "\n",
    "#print(dataset.readline().splitlines())\n",
    "#print(dataset.readline().splitlines())\n",
    "#print(dataset.readline().splitlines())"
   ]
  },
  {
   "cell_type": "markdown",
   "metadata": {
    "collapsed": true
   },
   "source": [
    "# Cleaning Ins.\n"
   ]
  },
  {
   "cell_type": "markdown",
   "metadata": {},
   "source": [
    "Keep {} (brackets), - (dashes),\n",
    "Remove [] (parantheses), '' (quotes/accents - damaged text) \n",
    "Remove the entire # comment and the ! \n",
    "Keep the \"========\"\n",
    "c = š\n",
    "C = capital(s) ^\n",
    "Keep all the numbers \n",
    "Keep [...] damaged text\n",
    "\n",
    "\n",
    "Keep the obverse and reverse "
   ]
  },
  {
   "cell_type": "code",
   "execution_count": 6,
   "metadata": {
    "collapsed": false
   },
   "outputs": [
    {
     "data": {
      "text/html": [
       "<div>\n",
       "<table border=\"1\" class=\"dataframe\">\n",
       "  <thead>\n",
       "    <tr style=\"text-align: right;\">\n",
       "      <th></th>\n",
       "      <th>Individual Lines</th>\n",
       "      <th>Title Number</th>\n",
       "      <th>Title Name</th>\n",
       "    </tr>\n",
       "  </thead>\n",
       "  <tbody>\n",
       "    <tr>\n",
       "      <th>0</th>\n",
       "      <td>o. 1 120 sa gi gu4 3 ba-ra-šeg6</td>\n",
       "      <td>059308</td>\n",
       "      <td>\"Sumerian: šeg6\", SLA // Studies Sigrist 185 /...</td>\n",
       "    </tr>\n",
       "    <tr>\n",
       "      <th>1</th>\n",
       "      <td>o. 2 8 sa gi uzu ma-la-&lt;ku&gt; 2 ba-ra-šeg6</td>\n",
       "      <td>059308</td>\n",
       "      <td>\"Sumerian: šeg6\", SLA // Studies Sigrist 185 /...</td>\n",
       "    </tr>\n",
       "    <tr>\n",
       "      <th>2</th>\n",
       "      <td>o. 3 x sa gi ša3-gar-du10 gu4 2 ba-ra-šeg6</td>\n",
       "      <td>059308</td>\n",
       "      <td>\"Sumerian: šeg6\", SLA // Studies Sigrist 185 /...</td>\n",
       "    </tr>\n",
       "    <tr>\n",
       "      <th>3</th>\n",
       "      <td>o. 4 5+x sa gi bar šah2-niga 2 ba-ra-šeg6</td>\n",
       "      <td>059308</td>\n",
       "      <td>\"Sumerian: šeg6\", SLA // Studies Sigrist 185 /...</td>\n",
       "    </tr>\n",
       "    <tr>\n",
       "      <th>4</th>\n",
       "      <td>o. 5 50 sa gi udu-niga 10 ba-ra-šeg6</td>\n",
       "      <td>059308</td>\n",
       "      <td>\"Sumerian: šeg6\", SLA // Studies Sigrist 185 /...</td>\n",
       "    </tr>\n",
       "    <tr>\n",
       "      <th>5</th>\n",
       "      <td>o. 6 20 sa gi šah2-niga 2 ba-ra-šeg6</td>\n",
       "      <td>059308</td>\n",
       "      <td>\"Sumerian: šeg6\", SLA // Studies Sigrist 185 /...</td>\n",
       "    </tr>\n",
       "    <tr>\n",
       "      <th>6</th>\n",
       "      <td>o. 7 x sa gi sila4 10 ba-ra-šeg6</td>\n",
       "      <td>059308</td>\n",
       "      <td>\"Sumerian: šeg6\", SLA // Studies Sigrist 185 /...</td>\n",
       "    </tr>\n",
       "    <tr>\n",
       "      <th>7</th>\n",
       "      <td>r. 1 5 sa gi dar{mušen} 77 ba-ra-šeg6</td>\n",
       "      <td>059308</td>\n",
       "      <td>\"Sumerian: šeg6\", SLA // Studies Sigrist 185 /...</td>\n",
       "    </tr>\n",
       "    <tr>\n",
       "      <th>8</th>\n",
       "      <td>r. 2 2 sa gi mušen-tur 20 ba-ra-šeg6</td>\n",
       "      <td>059308</td>\n",
       "      <td>\"Sumerian: šeg6\", SLA // Studies Sigrist 185 /...</td>\n",
       "    </tr>\n",
       "    <tr>\n",
       "      <th>9</th>\n",
       "      <td>r. 3 u4 šakkan6-ne nam-erim2 in-ku5-ša</td>\n",
       "      <td>059308</td>\n",
       "      <td>\"Sumerian: šeg6\", SLA // Studies Sigrist 185 /...</td>\n",
       "    </tr>\n",
       "  </tbody>\n",
       "</table>\n",
       "</div>"
      ],
      "text/plain": [
       "                              Individual Lines Title Number  \\\n",
       "0             o. 1 120 sa gi gu4 3 ba-ra-šeg6        059308   \n",
       "1    o. 2 8 sa gi uzu ma-la-<ku> 2 ba-ra-šeg6        059308   \n",
       "2  o. 3 x sa gi ša3-gar-du10 gu4 2 ba-ra-šeg6        059308   \n",
       "3   o. 4 5+x sa gi bar šah2-niga 2 ba-ra-šeg6        059308   \n",
       "4        o. 5 50 sa gi udu-niga 10 ba-ra-šeg6        059308   \n",
       "5        o. 6 20 sa gi šah2-niga 2 ba-ra-šeg6        059308   \n",
       "6            o. 7 x sa gi sila4 10 ba-ra-šeg6        059308   \n",
       "7       r. 1 5 sa gi dar{mušen} 77 ba-ra-šeg6        059308   \n",
       "8        r. 2 2 sa gi mušen-tur 20 ba-ra-šeg6        059308   \n",
       "9      r. 3 u4 šakkan6-ne nam-erim2 in-ku5-ša        059308   \n",
       "\n",
       "                                          Title Name  \n",
       "0  \"Sumerian: šeg6\", SLA // Studies Sigrist 185 /...  \n",
       "1  \"Sumerian: šeg6\", SLA // Studies Sigrist 185 /...  \n",
       "2  \"Sumerian: šeg6\", SLA // Studies Sigrist 185 /...  \n",
       "3  \"Sumerian: šeg6\", SLA // Studies Sigrist 185 /...  \n",
       "4  \"Sumerian: šeg6\", SLA // Studies Sigrist 185 /...  \n",
       "5  \"Sumerian: šeg6\", SLA // Studies Sigrist 185 /...  \n",
       "6  \"Sumerian: šeg6\", SLA // Studies Sigrist 185 /...  \n",
       "7  \"Sumerian: šeg6\", SLA // Studies Sigrist 185 /...  \n",
       "8  \"Sumerian: šeg6\", SLA // Studies Sigrist 185 /...  \n",
       "9  \"Sumerian: šeg6\", SLA // Studies Sigrist 185 /...  "
      ]
     },
     "execution_count": 6,
     "metadata": {},
     "output_type": "execute_result"
    }
   ],
   "source": [
    "def clean_dataset(dataset):\n",
    "    for i in range(0, len(dataset)):\n",
    "    # This code preforms the following:\n",
    "    # Removing the []s, # and the subsequent comment, and !\n",
    "    # Changing c = š and the same with Uppercase \n",
    "        cleaned_dataset = dataset\n",
    "        cleaning_line = cleaned_dataset.loc[i, \"Individual Lines\"]\n",
    "        if (type(re.match(r'\\d{6}', cleaning_line)) == type(re.match(r'\\d{6}', '012345'))):\n",
    "            title_line = cleaning_line\n",
    "            title_line = re.split('\\t', cleaning_line)\n",
    "            title_number = title_line[0]\n",
    "            title_name = title_line[1]\n",
    "            cleaned_dataset.drop(i, inplace = True)\n",
    "        else:    \n",
    "            delete_symbols_line = re.sub(r'\\[{1,4}|\\]{1,4}|!{1,4}', \"\", cleaning_line)\n",
    "            changing_c_line = re.sub(r'c+', \"š\", delete_symbols_line)\n",
    "            changing_C_line = re.sub(r'C+', 'Š', changing_c_line)\n",
    "            remove_the_comments = re.sub(r'#.*$', '', changing_C_line)\n",
    "            remove_the_tabs = re.sub(r'\\s+', ' ', remove_the_comments)\n",
    "            remove_the_quotes = re.sub(r\"´|`\", '', remove_the_tabs)\n",
    "            cleaned_dataset.loc[i, 'Title Number'] = title_number\n",
    "            cleaned_dataset.loc[i, 'Title Name'] = title_name\n",
    "            cleaned_dataset.loc[i, \"Individual Lines\"] = remove_the_quotes\n",
    "        #If it is preceded by a number immediately without a space keep C c\n",
    "        #Forgot the remove the quotes - take them out\n",
    "        #print(dataset)\n",
    "    cleaned_dataset.index = range(len(cleaned_dataset))\n",
    "    return(cleaned_dataset)\n",
    "\n",
    "#\n",
    "# Next time - Differentiate the title line from the text line C, c\n",
    "# Deliminate the table by whitespace (\"space\" and \"tab\")\n",
    "# Use \"tab\" and \"newline\" to create new lines \n",
    "# Dataset format: Title Number, Title ID, Individual Word, Individual Word Index, Upverse Reverse Identity\n",
    "# For the title - it is not imperative to clean the Sumerian pieces just make sure you have the first 5 numbers\n",
    "# We can go back and clean the title later. \n",
    "test = clean_dataset(table)\n",
    "test.head(10)"
   ]
  },
  {
   "cell_type": "code",
   "execution_count": null,
   "metadata": {
    "collapsed": false
   },
   "outputs": [],
   "source": [
    "# Creating function to clean data and to format it for lemmitization\n",
    "\n",
    "def lemmitization_cleaning(dataset):\n",
    "    columns = [\"Title Number\", \"Title Name\", \"Op / Re Number\", \"Word\", \"Word Index\", \"Word Before\", \"Word After\"]\n",
    "    df_ = pd.DataFrame(columns=columns)\n",
    "    df_ = df_.fillna(0)\n",
    "    count = 0\n",
    "    for i in range(0, len(dataset)):\n",
    "        lines = dataset.loc[i, \"Individual Lines\"] \n",
    "        number = dataset.loc[i, \"Title Number\"]\n",
    "        name = dataset.loc[i, \"Title Name\"]\n",
    "        split = re.split(\"\\s\", lines)\n",
    "        op_re_verse = split[0] + split[1]\n",
    "        split = split[2:-1]\n",
    "        num_words = len(split)\n",
    "        for j in range(0, num_words):\n",
    "            df_.loc[count,\"Title Number\"] = number\n",
    "            df_.loc[count,\"Title Name\"] = name\n",
    "            df_.loc[count,\"Op / Re Number\"] = op_re_verse\n",
    "            df_.loc[count, \"Word\"] = split[j]\n",
    "            df_.loc[count, \"Word Index\"] = j\n",
    "            if num_words != 1:\n",
    "                if j == 0:\n",
    "                    df_.loc[count, \"Word After\"] = split[1]\n",
    "                elif j > 0 and j < num_words-1:\n",
    "                    df_.loc[count, \"Word Before\"] = split[j-1]\n",
    "                    df_.loc[count, \"Word After\"] = split[j+1]\n",
    "                else:\n",
    "                    df_.loc[count, \"Word Before\"] = split[-1]\n",
    "            count += 1\n",
    "    return(df_)\n",
    "    \n",
    "        \n",
    "test = lemmitization_cleaning(table)\n",
    "test.head(100)"
   ]
  },
  {
   "cell_type": "code",
   "execution_count": 3,
   "metadata": {
    "collapsed": false
   },
   "outputs": [
    {
     "name": "stdout",
     "output_type": "stream",
     "text": [
      "['15', '27', '97', '102']\n",
      "\n",
      " is 15 years old, and  is 27 years old. \n",
      " is 97, and his gradnfather, , is 102. \n",
      "\n"
     ]
    }
   ],
   "source": [
    "# IDENTIFIERS - \"We are looking for something\"\n",
    "# \\d any number\n",
    "# \\D anything but a number\n",
    "# \\s space\n",
    "# \\S anything but a space\n",
    "# \\w any character\n",
    "# \\W anything but a character\n",
    "# . any character, except for a newline (you write the character next to it)\n",
    "# \\b the whitespace around words \n",
    "# \\. any period \n",
    "\n",
    "# Modifiers\n",
    "# {1,3} we are expecting one to three of them \\d{1,3} any number 1-3 in length\n",
    "# + only if there is one or more of them\n",
    "# ? might match 0 or 1\n",
    "# * match 0 or more \n",
    "# $ match the end of string\n",
    "# ^ matching the beginning of a string\n",
    "# | either or \\d{1-3} | \\w{5-6}\n",
    "# [] range or \"variance\" [A - Z] look in between A and Z\n",
    "# Another example [1-5a-qA-Z] anything between 1-5, a-q, and then A-Z\n",
    "# {x} expecting x amount \n",
    "\n",
    "# White Space Characters\"\n",
    "# \\n new line\n",
    "# \\s space\n",
    "# \\t tab\n",
    "# \\e escape \n",
    "# \\f form feed\n",
    "# \\r return \n",
    "\n",
    "#Don't forget that these are special characters:\n",
    "# . + * ? [ ] $ ^ () {} | \\ \n",
    "\n",
    "exampleString = '''\n",
    "Jessica is 15 years old, and Daniel is 27 years old. \n",
    "Edward is 97, and his gradnfather, Oscar, is 102. \n",
    "'''\n",
    "\n",
    "ages = re.findall(r'\\d{1,3}', exampleString) # any number between 1-3 in length\n",
    "names = re.sub(r'[A-Z][a-z]*', '', exampleString)\n",
    "\n",
    "print(ages)\n",
    "print(names)"
   ]
  },
  {
   "cell_type": "code",
   "execution_count": 4,
   "metadata": {
    "collapsed": false
   },
   "outputs": [
    {
     "data": {
      "text/html": [
       "<div>\n",
       "<table border=\"1\" class=\"dataframe\">\n",
       "  <thead>\n",
       "    <tr style=\"text-align: right;\">\n",
       "      <th></th>\n",
       "      <th>A</th>\n",
       "      <th>B</th>\n",
       "      <th>C</th>\n",
       "    </tr>\n",
       "  </thead>\n",
       "  <tbody>\n",
       "    <tr>\n",
       "      <th>0</th>\n",
       "      <td>Live</td>\n",
       "      <td>NaN</td>\n",
       "      <td>NaN</td>\n",
       "    </tr>\n",
       "  </tbody>\n",
       "</table>\n",
       "</div>"
      ],
      "text/plain": [
       "      A    B    C\n",
       "0  Live  NaN  NaN"
      ]
     },
     "execution_count": 4,
     "metadata": {},
     "output_type": "execute_result"
    }
   ],
   "source": [
    "columns = ['A','B', 'C']\n",
    "df_ = pd.DataFrame(columns=columns)\n",
    "df_\n",
    "df_.loc[0, 'A'] = \"Live\"\n",
    "df_\n"
   ]
  },
  {
   "cell_type": "code",
   "execution_count": null,
   "metadata": {
    "collapsed": true
   },
   "outputs": [],
   "source": []
  },
  {
   "cell_type": "code",
   "execution_count": null,
   "metadata": {
    "collapsed": true
   },
   "outputs": [],
   "source": []
  }
 ],
 "metadata": {
  "anaconda-cloud": {},
  "kernelspec": {
   "display_name": "Python [default]",
   "language": "python",
   "name": "python3"
  },
  "language_info": {
   "codemirror_mode": {
    "name": "ipython",
    "version": 3
   },
   "file_extension": ".py",
   "mimetype": "text/x-python",
   "name": "python",
   "nbconvert_exporter": "python",
   "pygments_lexer": "ipython3",
   "version": "3.5.2"
  }
 },
 "nbformat": 4,
 "nbformat_minor": 0
}
